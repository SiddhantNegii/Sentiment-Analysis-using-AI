{
 "cells": [
  {
   "cell_type": "code",
   "execution_count": 17,
   "id": "2b631d75-395d-4ad2-ba77-1407ca86cdf8",
   "metadata": {},
   "outputs": [
    {
     "name": "stdout",
     "output_type": "stream",
     "text": [
      "              precision    recall  f1-score   support\n",
      "\n",
      "    negative       0.91      0.51      0.65       178\n",
      "     neutral       0.52      0.91      0.66       140\n",
      "    positive       0.83      0.70      0.76       197\n",
      "\n",
      "    accuracy                           0.69       515\n",
      "   macro avg       0.75      0.71      0.69       515\n",
      "weighted avg       0.77      0.69      0.70       515\n",
      "\n"
     ]
    }
   ],
   "source": [
    "import spacy\n",
    "import pandas as pd\n",
    "from sklearn.feature_extraction.text import TfidfVectorizer\n",
    "from sklearn.ensemble import RandomForestClassifier\n",
    "from sklearn.metrics import classification_report\n",
    "from sklearn.pipeline import Pipeline\n",
    "import joblib\n",
    "\n",
    "\n",
    "nlp = spacy.load(\"en_core_web_sm\")\n",
    "\n",
    "def preprocess_text(text):\n",
    "    doc = nlp(text)\n",
    "    tokens = [token.lemma_ for token in doc if not token.is_stop and not token.is_punct]\n",
    "    return ' '.join(tokens)\n",
    "\n",
    "\n",
    "train_data = pd.read_csv('D:\\Project & Research Paper\\Dataset for Sentimental Analysis\\\\trainn.csv', encoding='ISO-8859-1').dropna()\n",
    "train_data['processed_text'] = train_data['sentence'].apply(preprocess_text)\n",
    "label_mapping = {-1: 'negative', 0: 'neutral', 1: 'positive'}\n",
    "train_data['sentiment_label'] = train_data['sentiment'].map(label_mapping)\n",
    "\n",
    "\n",
    "test_data = pd.read_csv('D:\\Project & Research Paper\\Dataset for Sentimental Analysis\\\\test.csv', encoding='ISO-8859-1').dropna()\n",
    "test_data['processed_text'] = test_data['sentence'].apply(preprocess_text)\n",
    "test_data['sentiment_label'] = test_data['sentiment'].map(label_mapping)\n",
    "\n",
    "pipeline = Pipeline([\n",
    "    ('tfidf', TfidfVectorizer(max_features=100000)),  # Limiting features to 100000\n",
    "    ('clf', RandomForestClassifier(n_estimators=200, random_state=42))  # Random Forest classifier\n",
    "])\n",
    "\n",
    "pipeline.fit(train_data['processed_text'], train_data['sentiment_label'])\n",
    "\n",
    "y_pred = pipeline.predict(test_data['processed_text'])\n",
    "y_true = test_data['sentiment_label']\n"
   ]
  },
  {
   "cell_type": "code",
   "execution_count": 29,
   "id": "8acf3806-3a1e-42aa-9c82-54eea3610e61",
   "metadata": {},
   "outputs": [
    {
     "name": "stdout",
     "output_type": "stream",
     "text": [
      "Precision for Positive class: [86.25] %\n",
      "Precision for Negative class: [95.78947368] %\n",
      "Overall precision: [91.01973684] %\n"
     ]
    },
    {
     "data": {
      "text/plain": [
       "['tfidf_vectorizer2.joblib']"
      ]
     },
     "execution_count": 29,
     "metadata": {},
     "output_type": "execute_result"
    }
   ],
   "source": [
    "from sklearn.metrics import precision_score, recall_score, f1_score\n",
    "\n",
    "y_true_filtered = y_true[y_true != 'neutral']\n",
    "y_pred_filtered = y_pred[y_true != 'neutral']\n",
    "\n",
    "precision_positive = precision_score(y_true_filtered, y_pred_filtered, average=None, labels=['positive'])\n",
    "precision_negative = precision_score(y_true_filtered, y_pred_filtered, average=None, labels=['negative'])\n",
    "\n",
    "print(\"Precision for Positive class:\", precision_positive*100, \"%\")\n",
    "print(\"Precision for Negative class:\", precision_negative*100, \"%\")\n",
    "print(\"Overall precision:\", (precision_negative+precision_positive)*50, \"%\")\n",
    "\n",
    "joblib.dump(pipeline, 'sentiment_model2.joblib')\n",
    "joblib.dump(vectorizer, 'tfidf_vectorizer2.joblib')"
   ]
  },
  {
   "cell_type": "code",
   "execution_count": 44,
   "id": "687c6cf1-bbf3-46b4-888c-00f3a524620f",
   "metadata": {},
   "outputs": [
    {
     "name": "stdout",
     "output_type": "stream",
     "text": [
      "['negative']\n"
     ]
    }
   ],
   "source": [
    "#input data\n",
    "text = \"hate\"\n",
    "def preprocess_text(text):\n",
    "    doc = nlp(text)\n",
    "    tokens = [token.lemma_ for token in doc]\n",
    "    processed_text = ' '.join(tokens)\n",
    "    return processed_text\n",
    "processed_text = preprocess_text(text)#prediction\n",
    "processed_text_vectorized = vectorizer.transform([processed_text])\n",
    "predictions = model.predict(processed_text_vectorized)\n",
    "print(predictions)"
   ]
  }
 ],
 "metadata": {
  "kernelspec": {
   "display_name": "Python 3 (ipykernel)",
   "language": "python",
   "name": "python3"
  },
  "language_info": {
   "codemirror_mode": {
    "name": "ipython",
    "version": 3
   },
   "file_extension": ".py",
   "mimetype": "text/x-python",
   "name": "python",
   "nbconvert_exporter": "python",
   "pygments_lexer": "ipython3",
   "version": "3.11.7"
  }
 },
 "nbformat": 4,
 "nbformat_minor": 5
}
